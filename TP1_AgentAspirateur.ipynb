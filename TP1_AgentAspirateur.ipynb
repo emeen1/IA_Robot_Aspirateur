{
 "cells": [
  {
   "cell_type": "markdown",
   "id": "ee56d093-b8a8-498b-9159-fd1209ec65c4",
   "metadata": {},
   "source": [
    "<p style=\"display: inline-block;\">\n",
    "    ENSAM – Casablanca <br>\n",
    "    Département Génie Informatique\n",
    "</p>\n",
    "<p style=\"display: inline-block; float: right; text-align: right;\">\n",
    "    Année Universitaire 2025-2026<br>\n",
    "    Pr. Soukaina Bouhsissin\n",
    "</p>"
   ]
  },
  {
   "cell_type": "markdown",
   "id": "704691e6-c533-4a6f-910a-0b856fb83e8c",
   "metadata": {},
   "source": [
    "<div style=\"border: 1px solid #333;\">\n",
    "    <h5><center>NOM : NOUAM &nbsp;&nbsp;&nbsp;|&nbsp;&nbsp;&nbsp; \n",
    "        PRENOM : IMANE &nbsp;&nbsp;&nbsp;|&nbsp;&nbsp;&nbsp; \n",
    "        FILIERE : IAGI 2 \n",
    "    </center></h5>\n",
    "</div>"
   ]
  },
  {
   "cell_type": "markdown",
   "id": "f166bd53-0b7c-4048-b771-7c86df5da58c",
   "metadata": {},
   "source": [
    "<h2><center>Intelligence Artificielle</center></h2>"
   ]
  },
  {
   "cell_type": "markdown",
   "id": "79a30b38-1e8f-4fd9-8823-df607c0c00dd",
   "metadata": {},
   "source": [
    "<h2 align = center><font color = green> Solutions TP 1 : Agent Réflexe Simple (Robot Aspirateur)</font> </h2>"
   ]
  },
  {
   "cell_type": "markdown",
   "id": "692d60cc-8a63-4e3f-a294-e25be1d79320",
   "metadata": {
    "jp-MarkdownHeadingCollapsed": true
   },
   "source": [
    "<h4><font color = red >Partie A - Environnement et Utilitaires : </font></h4>"
   ]
  },
  {
   "cell_type": "markdown",
   "id": "0b99f94c-40d3-4a13-af18-11cbcce1ecf0",
   "metadata": {},
   "source": [
    "<h5>Code Initial : </h5>"
   ]
  },
  {
   "cell_type": "code",
   "execution_count": 33,
   "id": "3e24b4fa-d048-4c4f-baf4-969876ac8295",
   "metadata": {},
   "outputs": [],
   "source": [
    "# --- PARTIE A:\n",
    "import random\n",
    "\n",
    "def init_grille(n=3, p=0.5, seed=0):\n",
    "    \"\"\"Initialise une grille nxn avec p% de cases sales.\"\"\"\n",
    "    rnd = random.Random(seed)\n",
    "    return [[1 if rnd.random() < p else 0 for _ in range(n)] for _ in range(n)]\n",
    "\n",
    "def tout_propre(G):\n",
    "    \"\"\"Vérifie si toutes les cases sont propres\"\"\"\n",
    "    return all(c == 0 for row in G for c in row)\n",
    "\n",
    "def in_bounds(i, j, n):\n",
    "    \"\"\"Vérifie si la position (i, j) est dans la grille nxn.\"\"\"\n",
    "    return 0 <= i < n and 0 <= j < n\n",
    "\n",
    "def print_grille(G, pos=None, label=\"\"):\n",
    "    \"\"\"Affiche la grille.\n",
    "        Args:\n",
    "            G: La grille à afficher\n",
    "            pos: Position du robot (i, j) ou None\n",
    "            label: Titre à afficher\n",
    "    \"\"\"\n",
    "    if label:\n",
    "        print(label)\n",
    "    for i, row in enumerate(G):\n",
    "        line = []\n",
    "        for j, c in enumerate(row):\n",
    "            if pos is not None and (i, j) == pos:\n",
    "                line.append(\"R\")\n",
    "            else:\n",
    "                line.append(str(c))\n",
    "        print(\" \".join(line))\n",
    "    print()\n",
    "    "
   ]
  },
  {
   "cell_type": "markdown",
   "id": "bfe9313c-94a4-49b2-ab4d-70aee2fbde31",
   "metadata": {},
   "source": [
    "<h5><b>Questions- A </b></h5>\n",
    "<p>\n",
    "    1. Créez une grille 3×3 avec 60% de cases sales </br>\n",
    "    2. Choisissez une position initiale (x, y) au hasard pour le robot</br>\n",
    "    3. Affichez la grille avec print_grille\n",
    "</p>\n"
   ]
  },
  {
   "cell_type": "code",
   "execution_count": 43,
   "id": "ecdce091-3658-43b0-bc5a-3ec4a44b4bb4",
   "metadata": {},
   "outputs": [
    {
     "name": "stdout",
     "output_type": "stream",
     "text": [
      "Grille initiale (R = robot) :\n",
      "R 0 1\n",
      "1 0 0\n",
      "0 1 0\n",
      "\n"
     ]
    }
   ],
   "source": [
    "# -------------------Question 1 : -----------------------------------\n",
    "\n",
    "# TODO: Initialisez les paramètres\n",
    "n = 3 # Taille de la grille\n",
    "p = 0.6 # % de saleté \n",
    "seed = 0.5 # Pour la reproductibilité \n",
    "\n",
    "# TODO: Créez la grille\n",
    "G = init_grille(n=n, p=p, seed=seed)\n",
    "\n",
    "# -------------------Question 2 : ------------------------------------\n",
    "\n",
    "# TODO: Position initiale aléatoire du robot\n",
    "random.seed(seed)\n",
    "x = random.randint(0, n - 1)\n",
    "y = random.randint(0, n - 1)\n",
    "\n",
    "# TODO: Affichez la grille\n",
    "print_grille(G, (x, y), label=\"Grille initiale (R = robot) :\")"
   ]
  },
  {
   "cell_type": "markdown",
   "id": "8ce5b1f6-e283-4659-b250-cbb4e6685866",
   "metadata": {},
   "source": [
    "<h5><b><i>Questions : </i></b></h5>\n",
    "<p>\n",
    "    <b>Q1.1 Quelle est la grille générée avec seed=1 ? Dessinez-la.</b></br>\n",
    "</p>\n"
   ]
  },
  {
   "cell_type": "code",
   "execution_count": 181,
   "id": "1b52e631-bf0b-43da-8370-16b360429d5c",
   "metadata": {},
   "outputs": [
    {
     "name": "stdout",
     "output_type": "stream",
     "text": [
      "Grille avec seed = 1 (R = robot) :\n",
      "1 0 R\n",
      "1 1 1\n",
      "0 0 1\n",
      "\n"
     ]
    }
   ],
   "source": [
    "# -------------------Question 1.1 : -----------------------------------\n",
    "n = 3 \n",
    "p = 0.6 \n",
    "seed = 1 #Pour seed = 1\n",
    "\n",
    "#Créez la grille\n",
    "G = init_grille(n=n, p=p, seed=seed)\n",
    "\n",
    "#Position initiale aléatoire du robot\n",
    "random.seed(seed)\n",
    "x, y = random.randint(0, n - 1), random.randint(0, n - 1)\n",
    "\n",
    "print_grille(G, (x, y), label=\"Grille avec seed = 1 (R = robot) :\")"
   ]
  },
  {
   "cell_type": "markdown",
   "id": "6935ae61-8710-490f-92ee-05750feb2cbc",
   "metadata": {},
   "source": [
    "<p><b>Q1.2 Combien de cases sales y a-t-il dans cette grille ?</b></p>"
   ]
  },
  {
   "cell_type": "markdown",
   "id": "e1c2a8f9-a93a-4435-b1fe-bc0dd3889a4b",
   "metadata": {},
   "source": [
    "<p><font color = green > Il ya 5 cases sales dans cette grille </font></p>"
   ]
  },
  {
   "cell_type": "markdown",
   "id": "903e0318-c2c2-4766-adeb-271c307ad195",
   "metadata": {},
   "source": [
    "<p><b>Q1.3 Quelle est la position initiale du robot ?</b></p>"
   ]
  },
  {
   "cell_type": "markdown",
   "id": "9647bcc2-8123-4701-9b22-6c670be4ebf1",
   "metadata": {},
   "source": [
    "<p><font color = green > La position initiale du robot est (x,y)=(0,2)</font> </p>"
   ]
  },
  {
   "cell_type": "markdown",
   "id": "2aad3ce7-6d1c-4e52-ae08-a530bf4b6690",
   "metadata": {},
   "source": [
    "<p><b>Q1.4 Testez avec seed=2 et seed=3. Les grilles changent-elles ? Pourquoi utilise-t-on une graine(seed) ?</b></p>\n"
   ]
  },
  {
   "cell_type": "code",
   "execution_count": 74,
   "id": "d0436d45-f84a-459f-ba92-cb069db1c2c6",
   "metadata": {},
   "outputs": [
    {
     "name": "stdout",
     "output_type": "stream",
     "text": [
      "Grille avec seed = 2 (R = robot) :\n",
      "R 0 1\n",
      "1 0 0\n",
      "0 1 0\n",
      "\n"
     ]
    }
   ],
   "source": [
    "# Tester seed = 2\n",
    "n = 3 \n",
    "p = 0.6 \n",
    "seed = 2 #Pour seed = 2\n",
    "G = init_grille(n=n, p=p, seed=seed)\n",
    "random.seed(seed)\n",
    "x, y = random.randint(0, n - 1), random.randint(0, n - 1)\n",
    "\n",
    "print_grille(G, (x, y), label=\"Grille avec seed = 2 (R = robot) :\")"
   ]
  },
  {
   "cell_type": "code",
   "execution_count": 76,
   "id": "719d724a-8e50-4a9b-9665-3bb7f97e4ec4",
   "metadata": {},
   "outputs": [
    {
     "name": "stdout",
     "output_type": "stream",
     "text": [
      "Grille avec seed = 3 (R = robot) :\n",
      "1 1 R\n",
      "0 0 1\n",
      "1 0 1\n",
      "\n"
     ]
    }
   ],
   "source": [
    "# Tester seed = 3\n",
    "n = 3 \n",
    "p = 0.6 \n",
    "seed = 3 #Pour seed = 3\n",
    "G = init_grille(n=n, p=p, seed=seed)\n",
    "random.seed(seed)\n",
    "x, y = random.randint(0, n - 1), random.randint(0, n - 1)\n",
    "\n",
    "print_grille(G, (x, y), label=\"Grille avec seed = 3 (R = robot) :\")"
   ]
  },
  {
   "cell_type": "markdown",
   "id": "418f93de-87f7-48a7-bba0-d6c943a747a4",
   "metadata": {},
   "source": [
    "<p><font color = green>Oui les grilles et les positions initiales changent. On utilise une graine pour garantir la reproductibilité des résultats. </font></p>"
   ]
  },
  {
   "cell_type": "markdown",
   "id": "d1c3bbab-07e9-44ca-bd00-b0d670873f7e",
   "metadata": {},
   "source": [
    "<p><b>Q1.5 Que se passe-t-il si vous mettez p=1.0 ? Et p=0.0 ?</b></p>"
   ]
  },
  {
   "cell_type": "code",
   "execution_count": 78,
   "id": "820860d9-9c81-431a-a8a5-1ab716bd0872",
   "metadata": {},
   "outputs": [
    {
     "name": "stdout",
     "output_type": "stream",
     "text": [
      "Grille avec P = 1.0 (R = robot) :\n",
      "1 1 R\n",
      "1 1 1\n",
      "1 1 1\n",
      "\n"
     ]
    }
   ],
   "source": [
    "# Tester p = 1.0\n",
    "n = 3 \n",
    "p = 1.0 \n",
    "seed = 1 \n",
    "G = init_grille(n=n, p=p, seed=seed)\n",
    "random.seed(seed)\n",
    "x, y = random.randint(0, n - 1), random.randint(0, n - 1)\n",
    "\n",
    "print_grille(G, (x, y), label=\"Grille avec P = 1.0 (R = robot) :\")"
   ]
  },
  {
   "cell_type": "markdown",
   "id": "6c31b401-b9c4-445d-bfb9-d3e40d0fbf9f",
   "metadata": {},
   "source": [
    "<p><font color = green>Si p = 1.0 ==> tous les cases sont sales</font></p>"
   ]
  },
  {
   "cell_type": "code",
   "execution_count": 83,
   "id": "89a7a587-93d7-4569-881f-f559bc7b7d01",
   "metadata": {},
   "outputs": [
    {
     "name": "stdout",
     "output_type": "stream",
     "text": [
      "Grille avec P = 1.0 (R = robot) :\n",
      "0 0 R\n",
      "0 0 0\n",
      "0 0 0\n",
      "\n"
     ]
    }
   ],
   "source": [
    "# Tester p = 0.0\n",
    "n = 3 \n",
    "p = 0.0 \n",
    "seed = 1 \n",
    "G = init_grille(n=n, p=p, seed=seed)\n",
    "random.seed(seed)\n",
    "x, y = random.randint(0, n - 1), random.randint(0, n - 1)\n",
    "\n",
    "print_grille(G, (x, y), label=\"Grille avec P = 1.0 (R = robot) :\")"
   ]
  },
  {
   "cell_type": "markdown",
   "id": "de70b477-1919-46b2-84ce-5d31ff5ad843",
   "metadata": {},
   "source": [
    "<p><font color = green>Si p = 0.0 ==> tous les cases sont propres</font></p>"
   ]
  },
  {
   "cell_type": "markdown",
   "id": "aa5160ae-2d93-4bb8-a338-06f0d2d7fb0c",
   "metadata": {
    "jp-MarkdownHeadingCollapsed": true
   },
   "source": [
    "<h4><font color = red >Partie B - Règles Réflexes: </font></h4>\n",
    "<p>Principe de l'agent réflexe : L'agent suit des règles simples</p>"
   ]
  },
  {
   "cell_type": "code",
   "execution_count": 102,
   "id": "fc3c9e6d-65e5-430d-a7ca-2edf8875d38e",
   "metadata": {},
   "outputs": [],
   "source": [
    "# Cycle de déplacement\n",
    "cycle = [\"DROITE\", \"BAS\", \"GAUCHE\", \"HAUT\"]\n",
    "def choisir_action(G, x, y, step):\n",
    "\n",
    "    # Règle 1: Aspirer si la case est sale\n",
    "    if G[x][y] == 1:\n",
    "        return \"ASPIRER\"\n",
    "\n",
    "    # Règle 2: Suivre le cycle de déplacement (DROITE, BAS, GAUCHE, HAUT)\n",
    "    for t in range(4):\n",
    "        a = cycle[(step + t) % 4]\n",
    "        nx, ny = x, y\n",
    "\n",
    "        # Calcul de la nouvelle position candidate (nx, ny)\n",
    "        if a == \"HAUT\":\n",
    "            nx -= 1\n",
    "        elif a == \"BAS\":\n",
    "            nx += 1\n",
    "        elif a == \"GAUCHE\":\n",
    "            ny -= 1\n",
    "        elif a == \"DROITE\":\n",
    "            ny += 1\n",
    "\n",
    "        # Vérifier si la nouvelle position est valide\n",
    "        if in_bounds(nx, ny, len(G)):\n",
    "            return a # Retourne la première action de déplacement valide\n",
    "\n",
    "    return \"RIEN\" # Si la case est propre et aucun déplacement n'est possible"
   ]
  },
  {
   "cell_type": "code",
   "execution_count": 104,
   "id": "22db6fa0-b8f8-413e-aa30-84ef513ddb4d",
   "metadata": {},
   "outputs": [],
   "source": [
    "def appliquer_action(G, x, y, action):\n",
    "    \"\"\"Applique l'action choisie à la grille et à la position du robot.\"\"\"\n",
    "    \n",
    "    # Si l'action est ASPIRER\n",
    "    if action == \"ASPIRER\":\n",
    "        G[x][y] = 0 # Nettoyez la case courante (sale -> propre)\n",
    "        return x, y, action\n",
    "    \n",
    "    # Si l'action est HAUT\n",
    "    if action == \"HAUT\" and in_bounds(x - 1, y, n):\n",
    "        return x - 1, y, action\n",
    "    \n",
    "    # Si l'action est BAS\n",
    "    if action == \"BAS\" and in_bounds(x + 1, y, n):\n",
    "        return x + 1, y, action\n",
    "    \n",
    "    # Si l'action est GAUCHE\n",
    "    if action == \"GAUCHE\" and in_bounds(x, y - 1, n):\n",
    "        return x, y - 1, action\n",
    "    \n",
    "    # Si l'action est DROITE\n",
    "    if action == \"DROITE\" and in_bounds(x, y + 1, n):\n",
    "        return x, y + 1, action\n",
    "    \n",
    "    # Si aucune action de déplacement n'est possible \n",
    "    return x, y, \"RIEN\""
   ]
  },
  {
   "cell_type": "markdown",
   "id": "0842058f-0ca8-4fdd-af4b-43c98a706cc4",
   "metadata": {},
   "source": [
    "<h5><b><i>Questions - B</i></b></h5>\n",
    "<p><b>Q2.1 Que fait exactement G[x][y] = 0 ?</b></p>"
   ]
  },
  {
   "cell_type": "markdown",
   "id": "cdf3a7b2-8991-4121-a7ff-a02c1dadb0d5",
   "metadata": {},
   "source": [
    "<p><font color = green >Nettoyer la case courante (sale -> propre)</font></p>"
   ]
  },
  {
   "cell_type": "markdown",
   "id": "ecb0c1ad-8da9-49cb-9986-c3a83c3d19fb",
   "metadata": {},
   "source": [
    "<p><b>Q2.2 Pourquoi vérifie-t-on in_bounds avant de se déplacer ?</b></p>"
   ]
  },
  {
   "cell_type": "markdown",
   "id": "c85bcfa7-662c-4658-bd03-f3900568c3a0",
   "metadata": {},
   "source": [
    "<p><font color = green >pour s'assurer que la nouvelle position après le mouvement est valide</font></p>"
   ]
  },
  {
   "cell_type": "markdown",
   "id": "392fadd2-bf0f-4128-85f7-886df8e79360",
   "metadata": {},
   "source": [
    "<p><b>Q2.3 Que se passe-t-il si le robot est dans un coin et essaie d'aller vers le bord ?</b></p>"
   ]
  },
  {
   "cell_type": "markdown",
   "id": "7e453ca1-f2bf-4335-a43f-dd995b6a9a1d",
   "metadata": {},
   "source": [
    "<p><font color = green >L'action est bloquée par la vérification \"in_bounds\". Le robot ne sort pas de la grille et tente immédiatement l'action suivante dans son cycle de déplacement (DROITE $\\rightarrow$ BAS $\\rightarrow$ GAUCHE $\\rightarrow$ HAUT) jusqu'à ce qu'il trouve un mouvement valide.</font></p>"
   ]
  },
  {
   "cell_type": "markdown",
   "id": "5b0ee211-9a6b-4425-87fb-1743ca5b7690",
   "metadata": {},
   "source": [
    "<p><b>Q2.4 Testez manuellement : Si le robot est en (0, 0) et fait \"HAUT\", quelle est la nouvelle position ?</b></p>"
   ]
  },
  {
   "cell_type": "markdown",
   "id": "bd24b945-1963-4d69-9303-6e8ace58b0eb",
   "metadata": {},
   "source": [
    "<p><font color = green >\n",
    "    Position actuelle : (x=0, y=0).</br>\n",
    "    Action tentée : \"HAUT\".</br>\n",
    "    Nouvelle position candidate : (x-1, y) = (-1, 0).</br>\n",
    "    Vérification : in_bounds(-1, 0, 3) retourne False car \"-1 < 0\".</br>\n",
    "    Résultat : L'action est invalide. </br>\n",
    "    La position du robot reste (0, 0).\n",
    "</font></p>"
   ]
  },
  {
   "cell_type": "markdown",
   "id": "0e4808de-fcd9-445b-9be3-66575da992fa",
   "metadata": {},
   "source": [
    "<p><b>Q2.5 Tracez sur papier le parcours du robot pour les 5 premières actions avec la grille de Q1.</b></p>"
   ]
  },
  {
   "cell_type": "markdown",
   "id": "7fe8fe53-00ad-4325-8a86-e6b1e100522c",
   "metadata": {},
   "source": [
    "<p>Grille G de Q1.1 :</p>"
   ]
  },
  {
   "cell_type": "markdown",
   "id": "8ca4a9eb-625c-4dbf-b24e-1dcce4cfe6ee",
   "metadata": {},
   "source": [
    "<p>\n",
    "1 1 0 </br>\n",
    "1 0 1 </br>\n",
    "1 R 1 </br>\n",
    "G[2][1]=0. </br> Position initiale (x=2, y=1).\n",
    "</p>"
   ]
  },
  {
   "cell_type": "markdown",
   "id": "509aedc7-7043-4887-926b-47e9a9198e01",
   "metadata": {},
   "source": [
    "<p><font color = green >\n",
    "    Départ step=0. Le cycle commence par cycle[0] = \"DROITE\".\n",
    "    <table>\n",
    "    <thead>\n",
    "        <tr>\n",
    "            <th>Step</th>\n",
    "            <th>Pos. initiale (x, y)</th>\n",
    "            <th>G[x][y]</th>\n",
    "            <th>choisir_action</th>\n",
    "            <th>Action effective</th>\n",
    "            <th>Nouvelle Pos. (x', y')</th>\n",
    "            <th>État G[x][y] (après)</th>\n",
    "        </tr>\n",
    "    </thead>\n",
    "    <tbody>\n",
    "        <tr><td>0</td><td>(2, 1)</td><td>0</td><td>DROITE</td><td>DROITE</td><td>(2, 2)</td><td>0 Tentative 1 (DROITE) $\\to (2, 2)$ (in_bounds).</td></tr>\n",
    "        <tr><td>1</td><td>(2, 2)</td><td>1</td><td>ASPIRER</td><td>ASPIRER</td><td>(2, 2)</td><td>0</td></tr>\n",
    "        <tr><td>2</td><td>(2, 2)</td><td>0</td><td>GAUCHE</td><td>GAUCHE</td><td>(2, 1)</td><td>0 Tentative 1 (GAUCHE) $\\to (2, 1)$ (in_bounds).</td></tr>\n",
    "        <tr><td>3</td><td>(2, 1)</td><td>0</td><td>HAUT</td><td>HAUT</td><td>(1, 1)</td><td>0 Tentative 1 (HAUT) $\\to (1, 1)$ (in_bounds).</td></tr>\n",
    "        <tr><td>4</td><td>(1, 1)</td><td>0</td><td>DROITE</td><td>DROITE</td><td>(1, 2)</td><td>0 Tentative 1 (DROITE) $\\to (1, 2)$ (in_bounds).</td></tr>\n",
    "    </tbody>\n",
    "</table>\n",
    "</font></p>"
   ]
  },
  {
   "cell_type": "markdown",
   "id": "a328c921-ef24-4be5-8830-3e6beefc1292",
   "metadata": {
    "jp-MarkdownHeadingCollapsed": true
   },
   "source": [
    "<h4><font color = red >PARTIE C : Boucle d'Exécution et Performance :</font></h4>\n",
    "<p>On va maintenant faire tourner le robot en boucle jusqu'à ce que :</br>\n",
    "    • Soit toute la grille soit propre </br>\n",
    "    • Soit on atteigne un nombre maximum d'actions (30 dans notre cas)</p>\n",
    "<h5><strong><font color = orange> NB : il faut toujours exécuter la cellule d'initialisation (Partie A) juste avant d'exécuter la cellule de simulation (Partie C) ci-dessous.<font></strong></h5>"
   ]
  },
  {
   "cell_type": "code",
   "execution_count": 150,
   "id": "ebda046a-e65c-4f29-b875-dc81b46f5b7d",
   "metadata": {},
   "outputs": [
    {
     "name": "stdout",
     "output_type": "stream",
     "text": [
      "Grille finale:\n",
      "R 0 0\n",
      "0 0 0\n",
      "0 0 0\n",
      "\n",
      "{'cases_propres': 9, 'sur': 9, 'taux_%': 100.0, 'nb_actions': 17}\n",
      "\n",
      "Actions effectuées: ['BAS', 'ASPIRER', 'GAUCHE', 'ASPIRER', 'DROITE', 'BAS', 'ASPIRER', 'HAUT', 'BAS', 'GAUCHE', 'GAUCHE', 'HAUT', 'ASPIRER', 'BAS', 'HAUT', 'HAUT', 'ASPIRER']\n"
     ]
    }
   ],
   "source": [
    "# Paramètres de simulation\n",
    "max_steps = 30 \n",
    "step = 0 \n",
    "actions = [] \n",
    "\n",
    "# Position (x, y) et Grille (G) sont issues de la Partie A\n",
    "\n",
    "# Boucle d'exécution\n",
    "while not tout_propre(G) and step < max_steps: \n",
    "    # Le robot choisit une action\n",
    "    a = choisir_action(G, x, y, step) \n",
    "    \n",
    "    # Le robot applique l'action\n",
    "    x, y, a_eff = appliquer_action(G, x, y, a) \n",
    "    \n",
    "    # Enregistrer l'action\n",
    "    actions.append(a_eff) \n",
    "    \n",
    "    step += 1 \n",
    "\n",
    "# Calcul de la performance === Compter le nombre de cases propres (celles qui sont à 0)\n",
    "propres = sum(c == 0 for row in G for c in row) \n",
    "# Calculer le taux de cases propres\n",
    "taux = 100.0 * (propres / (n * n)) \n",
    "\n",
    "# Affichage des résultats\n",
    "print_grille(G, (x, y), label=\"Grille finale:\") \n",
    "print({ \n",
    "    \"cases_propres\": propres, \n",
    "    \"sur\": n * n, \n",
    "    \"taux_%\": round(taux, 1), \n",
    "    \"nb_actions\": len(actions) \n",
    "})\n",
    "print(\"\\nActions effectuées:\", actions) "
   ]
  },
  {
   "cell_type": "markdown",
   "id": "3607cb72-ff3e-4ee0-ac3c-de37d8cfe800",
   "metadata": {},
   "source": [
    "<div style=\"border: 1px solid #333;\">\n",
    "<h4><font color = black ><center>Fin document !</center></font></h4></div>\n"
   ]
  }
 ],
 "metadata": {
  "kernelspec": {
   "display_name": "Python 3 (ipykernel)",
   "language": "python",
   "name": "python3"
  },
  "language_info": {
   "codemirror_mode": {
    "name": "ipython",
    "version": 3
   },
   "file_extension": ".py",
   "mimetype": "text/x-python",
   "name": "python",
   "nbconvert_exporter": "python",
   "pygments_lexer": "ipython3",
   "version": "3.12.7"
  }
 },
 "nbformat": 4,
 "nbformat_minor": 5
}
